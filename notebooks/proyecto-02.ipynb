{
 "cells": [
  {
   "cell_type": "markdown",
   "id": "7f2ee448-4123-4730-b527-b3e2f85f0d52",
   "metadata": {},
   "source": [
    "# Proyecto II – Simulación Numérica del Atractor de Lorenz\n",
    "\n",
    "## Introducción General\n",
    "\n",
    "En el presente proyecto se abordará la simulación numérica del **atractor de Lorenz**, un sistema de ecuaciones diferenciales ordinarias (EDOs) de naturaleza no lineal que presenta comportamiento caótico. El objetivo es implementar desde cero dos métodos numéricos fundamentales para la resolución de sistemas dinámicos de primer orden:\n",
    "\n",
    "- El **método de Euler**, por su sencillez computacional.\n",
    "- El **método de Runge-Kutta de cuarto orden (RK4)**, reconocido por su precisión.\n",
    "\n",
    "Ambos algoritmos serán utilizados para aproximar soluciones del sistema de Lorenz bajo distintas condiciones iniciales y parámetros, lo que permitirá observar y analizar el impacto de pequeñas variaciones en el comportamiento del sistema.\n",
    "\n",
    "El sistema fue propuesto por **Edward Lorenz** en 1963 como un modelo simplificado de convección atmosférica. Su relevancia se debe a que constituye uno de los primeros ejemplos documentados de un sistema determinista caótico, donde mínimas perturbaciones en las condiciones iniciales provocan trayectorias divergentes a lo largo del tiempo, fenómeno conocido como el **efecto mariposa** [1].\n",
    "\n",
    "El sistema está definido por el siguiente conjunto de ecuaciones diferenciales ordinarias:\n",
    "\n",
    "$$\n",
    "\\begin{cases}\n",
    "\\dot{x} = \\sigma (y - x) \\\\\n",
    "\\dot{y} = x(\\rho - z) - y \\\\\n",
    "\\dot{z} = xy - \\beta z\n",
    "\\end{cases}\n",
    "$$\n",
    "\n",
    "donde $\\sigma$, $\\rho$ y $\\beta$ son parámetros positivos que caracterizan el sistema, y las variables $x(t)$, $y(t)$ y $z(t)$ representan funciones del tiempo.\n",
    "\n",
    "Dado que no existe una solución analítica general para este sistema, será necesario utilizar métodos numéricos implementados manualmente en **Python**. Toda la lógica será construida desde cero utilizando únicamente herramientas como **NumPy** y **Matplotlib**.\n",
    "\n",
    "---\n"
   ]
  }
 ],
 "metadata": {
  "kernelspec": {
   "display_name": "Python 3 (ipykernel)",
   "language": "python",
   "name": "python3"
  },
  "language_info": {
   "codemirror_mode": {
    "name": "ipython",
    "version": 3
   },
   "file_extension": ".py",
   "mimetype": "text/x-python",
   "name": "python",
   "nbconvert_exporter": "python",
   "pygments_lexer": "ipython3",
   "version": "3.12.11"
  }
 },
 "nbformat": 4,
 "nbformat_minor": 5
}
